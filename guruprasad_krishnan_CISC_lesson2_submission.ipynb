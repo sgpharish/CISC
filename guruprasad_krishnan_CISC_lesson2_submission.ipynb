{
 "cells": [
  {
   "cell_type": "code",
   "execution_count": 1,
   "metadata": {},
   "outputs": [],
   "source": [
    "#Name of variable : principal\n",
    "#expression : principal * (1 + apr)\n",
    "#output statement: print ('The amount in 10 years is:', principal)\n",
    "#a simple variable statement: principal = float(input('Enter the initial principal: '))"
   ]
  },
  {
   "cell_type": "code",
   "execution_count": 4,
   "metadata": {},
   "outputs": [
    {
     "name": "stdout",
     "output_type": "stream",
     "text": [
      "what is the temp in fahrenheit? :32\n",
      "The temperature is (0.0, 'degrees Celcius')\n"
     ]
    }
   ],
   "source": [
    "#Requirement : convert fahrenheit to celius\n",
    "#specification: get input temperature from user in fahrenheit, print output in celcius\n",
    "#pseudocode:\n",
    "    # 1. get input from user as float\n",
    "    # 2. store it in a variable : fahreinheit\n",
    "    # 3. call function convert_to_celcius()\n",
    "    # 4. use formula (F-32)*5/9\n",
    "    # 5. return celcius\n",
    "    \n",
    "def convert_to_celcius(fahrenheit): return((fahrenheit - 32) * 5 / 9 , 'degrees Celcius') \n",
    "fahrenheit = float(input('what is the temp in fahrenheit? :'))\n",
    "print(\"The temperature is\", convert_to_celcius(fahrenheit))\n"
   ]
  },
  {
   "cell_type": "code",
   "execution_count": null,
   "metadata": {},
   "outputs": [],
   "source": []
  }
 ],
 "metadata": {
  "kernelspec": {
   "display_name": "Python 3",
   "language": "python",
   "name": "python3"
  },
  "language_info": {
   "codemirror_mode": {
    "name": "ipython",
    "version": 3
   },
   "file_extension": ".py",
   "mimetype": "text/x-python",
   "name": "python",
   "nbconvert_exporter": "python",
   "pygments_lexer": "ipython3",
   "version": "3.7.0"
  }
 },
 "nbformat": 4,
 "nbformat_minor": 2
}
