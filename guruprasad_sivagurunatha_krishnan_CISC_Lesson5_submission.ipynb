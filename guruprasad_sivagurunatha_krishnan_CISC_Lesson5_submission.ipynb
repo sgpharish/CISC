{
 "cells": [
  {
   "cell_type": "code",
   "execution_count": 5,
   "metadata": {},
   "outputs": [
    {
     "data": {
      "application/vnd.jupyter.widget-view+json": {
       "model_id": "203d0eac52584f47adb9a4a8a0ef7e13",
       "version_major": 2,
       "version_minor": 0
      },
      "text/plain": [
       "Turtle()"
      ]
     },
     "metadata": {},
     "output_type": "display_data"
    }
   ],
   "source": [
    "from turtle import Turtle\n",
    "t=Turtle()\n",
    "t.fd(300)\n",
    "from mobilechelonian import Turtle\n",
    "t=Turtle()\n",
    "\n",
    "t.forward(40)\n",
    "t.backward(80)\n",
    "t.home()\n",
    "t.left(90)\n",
    "t.forward(40)\n",
    "t.right(90)\n",
    "t.circle(30,360)\n",
    "t.left(180)\n",
    "t.left(45)\n",
    "t.forward(20)\n",
    "t.backward(20)\n",
    "t.left(90)\n",
    "t.forward(20)\n",
    "\n",
    "\n"
   ]
  },
  {
   "cell_type": "code",
   "execution_count": null,
   "metadata": {},
   "outputs": [],
   "source": []
  }
 ],
 "metadata": {
  "kernelspec": {
   "display_name": "Python 3",
   "language": "python",
   "name": "python3"
  },
  "language_info": {
   "codemirror_mode": {
    "name": "ipython",
    "version": 3
   },
   "file_extension": ".py",
   "mimetype": "text/x-python",
   "name": "python",
   "nbconvert_exporter": "python",
   "pygments_lexer": "ipython3",
   "version": "3.7.0"
  }
 },
 "nbformat": 4,
 "nbformat_minor": 2
}
