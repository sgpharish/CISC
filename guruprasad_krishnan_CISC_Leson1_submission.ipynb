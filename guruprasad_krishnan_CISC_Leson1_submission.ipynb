{
 "cells": [
  {
   "cell_type": "code",
   "execution_count": 1,
   "metadata": {},
   "outputs": [
    {
     "name": "stdout",
     "output_type": "stream",
     "text": [
      "14\n"
     ]
    }
   ],
   "source": [
    "print (12 + 2)"
   ]
  },
  {
   "cell_type": "code",
   "execution_count": 2,
   "metadata": {},
   "outputs": [
    {
     "name": "stdout",
     "output_type": "stream",
     "text": [
      "122\n"
     ]
    }
   ],
   "source": [
    "print ('12' + '2')"
   ]
  },
  {
   "cell_type": "code",
   "execution_count": 7,
   "metadata": {},
   "outputs": [
    {
     "name": "stdout",
     "output_type": "stream",
     "text": [
      "Enter 1 name: d\n",
      "Enter 1 age: 1\n",
      "1. d\n",
      "Age of d is 1\n",
      "Enter 2 name: r\n",
      "Enter 2 age: 2\n",
      "2. r\n",
      "Age of r is 2\n",
      "Enter 3 name: t\n",
      "Enter 3 age: 4\n",
      "3. t\n",
      "Age of t is 4\n",
      "Enter 4 name: h\n",
      "Enter 4 age: 7\n",
      "4. h\n",
      "Age of h is 7\n",
      "Enter 5 name: j\n",
      "Enter 5 age: 8\n",
      "5. j\n",
      "Age of j is 8\n"
     ]
    }
   ],
   "source": [
    "def printAge(age,name): print(\"Age of \"+ name +\" is \"+ str(age))\n",
    "def printName(name,number): print(str(number)+\". \"+name)\n",
    "for number in range(1,6):\n",
    "    name = str(input(\"Enter \"+ str(number)+\" name: \"))\n",
    "    age = int(input(\"Enter \"+str(number)+\" age: \"))\n",
    "    printName(name,number)\n",
    "    printAge(age,name)\n",
    "    \n",
    "    \n",
    "    \n"
   ]
  },
  {
   "cell_type": "code",
   "execution_count": null,
   "metadata": {},
   "outputs": [],
   "source": []
  }
 ],
 "metadata": {
  "kernelspec": {
   "display_name": "Python 3",
   "language": "python",
   "name": "python3"
  },
  "language_info": {
   "codemirror_mode": {
    "name": "ipython",
    "version": 3
   },
   "file_extension": ".py",
   "mimetype": "text/x-python",
   "name": "python",
   "nbconvert_exporter": "python",
   "pygments_lexer": "ipython3",
   "version": "3.7.0"
  }
 },
 "nbformat": 4,
 "nbformat_minor": 2
}
