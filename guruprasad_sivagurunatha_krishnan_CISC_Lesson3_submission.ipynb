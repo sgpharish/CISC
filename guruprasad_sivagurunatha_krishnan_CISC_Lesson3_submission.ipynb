{
 "cells": [
  {
   "cell_type": "code",
   "execution_count": 2,
   "metadata": {},
   "outputs": [
    {
     "name": "stdout",
     "output_type": "stream",
     "text": [
      "Input hours: 0\n",
      "Input minutes: 2\n",
      "Time in seconds 120\n"
     ]
    }
   ],
   "source": [
    "hours = int(input(\"Input hours: \")) * 3600\n",
    "minutes = int(input(\"Input minutes: \")) * 60\n",
    "time = hours + minutes\n",
    "print(\"Time in seconds\", time)"
   ]
  },
  {
   "cell_type": "code",
   "execution_count": 6,
   "metadata": {},
   "outputs": [
    {
     "name": "stdout",
     "output_type": "stream",
     "text": [
      "Sorted List : [  1   3   4  10  21  26  33  43  45  51  56  65 106]\n",
      "Mean : 35.69230769230769\n",
      "Median : 33.0\n"
     ]
    }
   ],
   "source": [
    "import numpy as np\n",
    "list = [26,1,43,21,33,106,45,4,10,3,51,56,65];\n",
    "print(\"Sorted List :\",np.sort(list));\n",
    "print(\"Mean :\",np.mean(list));\n",
    "print(\"Median :\",np.median(list));"
   ]
  },
  {
   "cell_type": "code",
   "execution_count": null,
   "metadata": {},
   "outputs": [],
   "source": []
  }
 ],
 "metadata": {
  "kernelspec": {
   "display_name": "Python 3",
   "language": "python",
   "name": "python3"
  },
  "language_info": {
   "codemirror_mode": {
    "name": "ipython",
    "version": 3
   },
   "file_extension": ".py",
   "mimetype": "text/x-python",
   "name": "python",
   "nbconvert_exporter": "python",
   "pygments_lexer": "ipython3",
   "version": "3.7.0"
  }
 },
 "nbformat": 4,
 "nbformat_minor": 2
}
