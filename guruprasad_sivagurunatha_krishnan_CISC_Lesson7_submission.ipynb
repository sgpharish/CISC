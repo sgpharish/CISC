{
 "cells": [
  {
   "cell_type": "code",
   "execution_count": 2,
   "metadata": {},
   "outputs": [
    {
     "name": "stdout",
     "output_type": "stream",
     "text": [
      "Enter a number: 5\n",
      "Odd number\n"
     ]
    }
   ],
   "source": [
    "num = int(input('Enter a number: '))\n",
    "if num%2 == 0: print ('Even number')\n",
    "else: print ('Odd number')"
   ]
  },
  {
   "cell_type": "code",
   "execution_count": 5,
   "metadata": {},
   "outputs": [
    {
     "name": "stdout",
     "output_type": "stream",
     "text": [
      "Enter first number: 4\n",
      "Enter second number: 0\n",
      "Cannot divide by zero\n",
      "2.0\n",
      "Division complete\n"
     ]
    }
   ],
   "source": [
    "num = int(input('Enter first number: '))\n",
    "num2 = int(input('Enter second number: '))\n",
    "try:\n",
    "    num3 = num / num2\n",
    "except ZeroDivisionError:\n",
    "    print ('Cannot divide by zero')\n",
    "else:\n",
    "    print ('Code executed successfully!')\n",
    "finally:\n",
    "    print (num3)\n",
    "    print ('Division complete')"
   ]
  },
  {
   "cell_type": "code",
   "execution_count": null,
   "metadata": {},
   "outputs": [],
   "source": []
  }
 ],
 "metadata": {
  "kernelspec": {
   "display_name": "Python 3",
   "language": "python",
   "name": "python3"
  },
  "language_info": {
   "codemirror_mode": {
    "name": "ipython",
    "version": 3
   },
   "file_extension": ".py",
   "mimetype": "text/x-python",
   "name": "python",
   "nbconvert_exporter": "python",
   "pygments_lexer": "ipython3",
   "version": "3.7.0"
  }
 },
 "nbformat": 4,
 "nbformat_minor": 2
}
