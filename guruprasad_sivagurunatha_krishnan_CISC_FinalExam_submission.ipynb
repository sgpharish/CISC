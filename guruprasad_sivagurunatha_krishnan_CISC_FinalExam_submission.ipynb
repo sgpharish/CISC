{
 "cells": [
  {
   "cell_type": "code",
   "execution_count": 4,
   "metadata": {},
   "outputs": [
    {
     "name": "stderr",
     "output_type": "stream",
     "text": [
      "/Users/gkrishnan/anaconda3/lib/python3.7/site-packages/numpy/lib/nanfunctions.py:1019: RuntimeWarning: Mean of empty slice\n",
      "  return np.nanmean(a, axis, out=out, keepdims=keepdims)\n"
     ]
    },
    {
     "data": {
      "image/png": "[encoded data removed]",
      "text/plain": [
       "<Figure size 216x216 with 1 Axes>"
      ]
     },
     "metadata": {
      "needs_background": "light"
     },
     "output_type": "display_data"
    },
    {
     "data": {
      "image/png": "[encoded data removed]",
      "text/plain": [
       "<Figure size 216x216 with 1 Axes>"
      ]
     },
     "metadata": {
      "needs_background": "light"
     },
     "output_type": "display_data"
    }
   ],
   "source": [
    "#question1 \n",
    "\n",
    "import numpy as np\n",
    "import pandas as pd\n",
    "import matplotlib.pyplot as plt\n",
    "import seaborn as sns\n",
    "\n",
    "#a\n",
    "data = pd.read_excel('Washington_Health_Workforce_Survey_Data.xls');\n",
    "\n",
    "\n",
    "#b\n",
    "data[[\"NumberYearsPracticeWashington\",\"BirthYear\"]].corr()\n",
    "#Here we note that NumberYearsPracticeWashington and BirthYear are negatively correlated which means as the NumberYearsPracticeWashington increases the BirthYear is decreasing\n",
    "\n",
    "data['AnnualWeeksWorked'] = data['AnnualWeeksWorked'].fillna((data['AnnualWeeksWorked'].median()))\n",
    "\n",
    "data['AnnualWeeksWorked'].mean()\n",
    "\n",
    "#c\n",
    "filterdata = (data['AnnualWeeksWorked'] >=0.0) & (data['Sex'] == 'Male') \n",
    "data[filterdata].mean()\n",
    "data[filterdata].median()\n",
    "\n",
    "filterdata = (data['AnnualWeeksWorked'] >=0.0) & (data['Sex'] == 'Female') \n",
    "data[filterdata].mean()\n",
    "data[filterdata].median()\n",
    "\n",
    "#d\n",
    "filterdata = (data['AnnualWeeksWorked'] >=0.0) & (data['Sex'] == 'Male') \n",
    "g = sns.FacetGrid(data[filterdata], col=\"Sex\")\n",
    "g.map(plt.hist, \"AnnualWeeksWorked\");\n",
    "\n",
    "filterdata = (data['AnnualWeeksWorked'] >=0.0) & (data['Sex'] == 'Female') \n",
    "g = sns.FacetGrid(data[filterdata], col=\"Sex\")\n",
    "g.map(plt.hist, \"AnnualWeeksWorked\");\n"
   ]
  },
  {
   "cell_type": "code",
   "execution_count": 2,
   "metadata": {},
   "outputs": [
    {
     "name": "stdout",
     "output_type": "stream",
     "text": [
      "The main string is:  The shark bit the huge tuna\n",
      "Enter a new word for subject: a\n",
      "Enter a new word for verb: d\n",
      "Enter a new word for adjective: s\n",
      "Enter a new word for object: s\n",
      "The output string is:  The a d the s s\n"
     ]
    }
   ],
   "source": [
    "#question2\n",
    "\n",
    "main_string = \"The shark bit the huge tuna\";\n",
    "print(\"The main string is: \",main_string);\n",
    "subject_string = input(\"Enter a new word for subject: \");\n",
    "verb_string = input(\"Enter a new word for verb: \");\n",
    "adjective_string = input(\"Enter a new word for adjective: \");\n",
    "object_string = input(\"Enter a new word for object: \");\n",
    "splitted_string = main_string.split();\n",
    "splitted_string[1] = subject_string;\n",
    "splitted_string[2] = verb_string;\n",
    "splitted_string[4] = adjective_string;\n",
    "splitted_string[5] = object_string;\n",
    "delimeter = \" \";\n",
    "output_string = delimeter.join(splitted_string);\n",
    "print(\"The output string is: \",output_string);\n"
   ]
  },
  {
   "cell_type": "code",
   "execution_count": 3,
   "metadata": {},
   "outputs": [
    {
     "name": "stdout",
     "output_type": "stream",
     "text": [
      "The random number generated is  87\n",
      "The current num is  50\n",
      "Enter 1 for too high or 2 for too low2\n",
      "The current num is  51\n",
      "Enter 1 for too high or 2 for too low1\n",
      "The current num is  50\n",
      "Enter 1 for too high or 2 for too low2\n",
      "The current num is  51\n",
      "Enter 1 for too high or 2 for too low2\n",
      "The current num is  52\n",
      "Enter 1 for too high or 2 for too low2\n",
      "The current num is  53\n",
      "Enter 1 for too high or 2 for too low2\n",
      "The current num is  54\n",
      "Enter 1 for too high or 2 for too low2\n",
      "The current num is  55\n",
      "Enter 1 for too high or 2 for too low2\n",
      "The current num is  56\n",
      "Enter 1 for too high or 2 for too low2\n",
      "The current num is  57\n",
      "Enter 1 for too high or 2 for too low2\n",
      "The current num is  58\n",
      "Enter 1 for too high or 2 for too low2\n",
      "The current num is  59\n",
      "Enter 1 for too high or 2 for too low2\n",
      "The current num is  60\n",
      "Enter 1 for too high or 2 for too low2\n",
      "The current num is  61\n",
      "Enter 1 for too high or 2 for too low2\n",
      "The current num is  62\n",
      "Enter 1 for too high or 2 for too low2\n",
      "The current num is  63\n",
      "Enter 1 for too high or 2 for too low2\n",
      "The current num is  64\n",
      "Enter 1 for too high or 2 for too low2\n",
      "The current num is  65\n",
      "Enter 1 for too high or 2 for too low2\n",
      "The current num is  66\n",
      "Enter 1 for too high or 2 for too low2\n",
      "The current num is  67\n",
      "Enter 1 for too high or 2 for too low2\n",
      "The current num is  68\n",
      "Enter 1 for too high or 2 for too low2\n",
      "The current num is  69\n",
      "Enter 1 for too high or 2 for too low2\n",
      "The current num is  70\n",
      "Enter 1 for too high or 2 for too low2\n",
      "The current num is  71\n",
      "Enter 1 for too high or 2 for too low2\n",
      "The current num is  72\n",
      "Enter 1 for too high or 2 for too low22\n",
      "The current num is  73\n",
      "Enter 1 for too high or 2 for too low2\n",
      "The current num is  74\n",
      "Enter 1 for too high or 2 for too low2\n",
      "The current num is  75\n",
      "Enter 1 for too high or 2 for too low2\n",
      "The current num is  76\n",
      "Enter 1 for too high or 2 for too low2\n",
      "The current num is  77\n",
      "Enter 1 for too high or 2 for too low2\n",
      "The current num is  78\n",
      "Enter 1 for too high or 2 for too low2\n",
      "The current num is  79\n",
      "Enter 1 for too high or 2 for too low2\n",
      "The current num is  80\n",
      "Enter 1 for too high or 2 for too low2\n",
      "The current num is  81\n",
      "Enter 1 for too high or 2 for too low2\n",
      "The current num is  82\n",
      "Enter 1 for too high or 2 for too low2\n",
      "The current num is  83\n",
      "Enter 1 for too high or 2 for too low2\n",
      "The current num is  84\n",
      "Enter 1 for too high or 2 for too low2\n",
      "The current num is  85\n",
      "Enter 1 for too high or 2 for too low2\n",
      "The current num is  86\n",
      "Enter 1 for too high or 2 for too low2\n",
      "CurrentNum is same as randomly generated number\n"
     ]
    }
   ],
   "source": [
    "#question3\n",
    "import random \n",
    "low=1; \n",
    "high=100; \n",
    "number = random.randint(low, high) \n",
    "print('The random number generated is ', number); \n",
    "currentNum = int((low+high)/2); \n",
    "while currentNum != number: \n",
    "    print('The current num is ', currentNum) \n",
    "    userval = int(input('Enter 1 for too high or 2 for too low')) \n",
    "    if userval == 1: \n",
    "        currentNum = currentNum - 1; \n",
    "    else: \n",
    "        currentNum = currentNum + 1; \n",
    "print(\"CurrentNum is same as randomly generated number\");\n"
   ]
  },
  {
   "cell_type": "code",
   "execution_count": null,
   "metadata": {},
   "outputs": [],
   "source": []
  }
 ],
 "metadata": {
  "kernelspec": {
   "display_name": "Python 3",
   "language": "python",
   "name": "python3"
  },
  "language_info": {
   "codemirror_mode": {
    "name": "ipython",
    "version": 3
   },
   "file_extension": ".py",
   "mimetype": "text/x-python",
   "name": "python",
   "nbconvert_exporter": "python",
   "pygments_lexer": "ipython3",
   "version": "3.7.0"
  }
 },
 "nbformat": 4,
 "nbformat_minor": 2
}
